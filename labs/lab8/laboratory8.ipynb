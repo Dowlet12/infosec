{
  "nbformat": 4,
  "nbformat_minor": 0,
  "metadata": {
    "colab": {
      "provenance": []
    },
    "kernelspec": {
      "name": "python3",
      "display_name": "Python 3"
    },
    "language_info": {
      "name": "python"
    }
  },
  "cells": [
    {
      "cell_type": "code",
      "execution_count": 2,
      "metadata": {
        "id": "2d2jG0YgHLkH"
      },
      "outputs": [],
      "source": [
        "def ecncrypt(t1,t2):\n",
        "  t1 = [ord(i) for i in t1]\n",
        "  t2 = [ord(i) for i in t2]\n",
        "  return ''.join(chr(a^b) for a, b in zip(t1, t2))"
      ]
    },
    {
      "cell_type": "code",
      "source": [
        "P1 =\"НаВашисходящийот1204\"\n",
        "P2 = \"ВСеверныйфилиалБанка\"\n",
        "\n",
        "K = \"05 0C 17 7F 0E 4E 37 D2 94 10 09 2E 22 57 FF C8 b2 70 54\""
      ],
      "metadata": {
        "id": "otOCqmA-Hqik"
      },
      "execution_count": 3,
      "outputs": []
    },
    {
      "cell_type": "code",
      "source": [
        "C1 = ecncrypt(P1, K)\n",
        "C2 = ecncrypt(P2, K)\n",
        "\n",
        "print(\"Зашифрованный текст C1:\", C1)\n",
        "print(\"Зашифрованный текст C2:\", C2)"
      ],
      "metadata": {
        "colab": {
          "base_uri": "https://localhost:8080/"
        },
        "id": "P0SOfO6TIJ-u",
        "outputId": "7a957315-5ac6-4ddc-c9f6-8aad1c3b6a96"
      },
      "execution_count": 4,
      "outputs": [
        {
          "output_type": "stream",
          "name": "stdout",
          "text": [
            "Зашифрованный текст C1: ЭЅвЀЋИѰѲОЃЉѩЈѼОѶt\u0012\u0003\u0003\n",
            "Зашифрованный текст C2: ТДЕЂѶѠЌѼЙѳѾЛЈѵЛХѵНЉЇ\n"
          ]
        }
      ]
    },
    {
      "cell_type": "code",
      "source": [
        "decr = ecncrypt(C1, C2)\n",
        "\n",
        "print(\"Расшифрованный текст P1:\", ecncrypt(decr, P1))\n",
        "print(\"Расшифрованный текст P2:\", ecncrypt(decr, P2))"
      ],
      "metadata": {
        "colab": {
          "base_uri": "https://localhost:8080/"
        },
        "id": "6JRLhm2MIxtv",
        "outputId": "d730c084-d3fc-4811-ebc3-d0266b42aeb1"
      },
      "execution_count": 5,
      "outputs": [
        {
          "output_type": "stream",
          "name": "stdout",
          "text": [
            "Расшифрованный текст P1: ВСеверныйфилиалБанка\n",
            "Расшифрованный текст P2: НаВашисходящийот1204\n"
          ]
        }
      ]
    }
  ]
}